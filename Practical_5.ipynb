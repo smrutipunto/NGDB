{
  "nbformat": 4,
  "nbformat_minor": 0,
  "metadata": {
    "colab": {
      "provenance": [],
      "authorship_tag": "ABX9TyNPhh4zUHYFINwoZ+4Owa32",
      "include_colab_link": true
    },
    "kernelspec": {
      "name": "python3",
      "display_name": "Python 3"
    },
    "language_info": {
      "name": "python"
    }
  },
  "cells": [
    {
      "cell_type": "markdown",
      "metadata": {
        "id": "view-in-github",
        "colab_type": "text"
      },
      "source": [
        "<a href=\"https://colab.research.google.com/github/smrutipunto/NGDB/blob/main/Practical_5.ipynb\" target=\"_parent\"><img src=\"https://colab.research.google.com/assets/colab-badge.svg\" alt=\"Open In Colab\"/></a>"
      ]
    },
    {
      "cell_type": "code",
      "source": [
        "1.  start-dfs.cmd\n",
        "2.  hadoop version\n",
        "3.  jps\n",
        "4.  hdfs dfs -ls /\n",
        "5.  hadoop fs -mkdir /tb\n",
        "6.  hadoop fs -mkdir /big-data\n",
        "7.  hadoop fs -mkdir /big-data/ds23133\n",
        "8.  hadoop fs -mkdir /big-data/ds23133/practical\n",
        "9.  hadoop fs -ls /\n",
        "10. hadoop fs -touchz /big-data/ds23133/practical/ds23133.txt\n",
        "11. hadoop fs -cat /big-data/ds23133/practical/ds23133.txt\n",
        "12. hadoop fs -appendToFile /c:/input.txt /big-data/ds23133/practical/ds23133.txt\n",
        "13. hadoop fs -copyFromLocal F:/bank.txt /big-data/ds23133/practical/ds23133.txt\n",
        "14. hadoop fs -copyToLocal /big-data/ds23133/practical/ds23133.txt F:/\n",
        "15. hadoop fs -mkdir /folder1\n",
        "16. hadoop fs -mkdir /folder2\n",
        "17. hadoop fs -cp /big-data-ds23133/myroll-ds23133/practical-ds23133.txt /folder1/\n",
        "18. hadoop fs -mv /big-data-ds23133/myroll-ds23133/practical-ds23133.txt /folder2/\n",
        "19. hadoop fs -ls /folder1\n",
        "20. hadoop fs -mv /folder1/practical-ds23133.txt /folder1/practical-DS23133.txt\n",
        "21. hadoop fs -rm -skipTrash /folder2/practical-ds23133.txt\n",
        "22. hadoop fs -rmdir /folder1\n",
        "23. hadoop fs -expunge\n",
        "24. hadoop fs -du /"
      ],
      "metadata": {
        "id": "Ma5nXEXdYTu_"
      },
      "execution_count": null,
      "outputs": []
    }
  ]
}