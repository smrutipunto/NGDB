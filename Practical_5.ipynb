{
  "nbformat": 4,
  "nbformat_minor": 0,
  "metadata": {
    "colab": {
      "provenance": [],
      "authorship_tag": "ABX9TyMkq07ahkOsahKm+Gu8QQZV",
      "include_colab_link": true
    },
    "kernelspec": {
      "name": "python3",
      "display_name": "Python 3"
    },
    "language_info": {
      "name": "python"
    }
  },
  "cells": [
    {
      "cell_type": "markdown",
      "metadata": {
        "id": "view-in-github",
        "colab_type": "text"
      },
      "source": [
        "<a href=\"https://colab.research.google.com/github/smrutipunto/NGDB/blob/main/Practical_5.ipynb\" target=\"_parent\"><img src=\"https://colab.research.google.com/assets/colab-badge.svg\" alt=\"Open In Colab\"/></a>"
      ]
    },
    {
      "cell_type": "code",
      "execution_count": null,
      "metadata": {
        "id": "-XrXkaxhZprt"
      },
      "outputs": [],
      "source": [
        "C:\\Windows\\System32>start-dfs.cmd"
      ]
    },
    {
      "cell_type": "code",
      "source": [
        "C:\\Windows\\System32>hadoop version\n",
        "C:\\Windows\\System32>Hadoop fs -ls /\n",
        "C:\\Windows\\System32>Hadoop fs -mkdir /BIGDATA-23127\n"
      ],
      "metadata": {
        "id": "dMpn7o2jZybt"
      },
      "execution_count": null,
      "outputs": []
    },
    {
      "cell_type": "code",
      "source": [
        "C:\\Windows\\System32>hadoop -mkdir /BIGDATA-23127/MYROLL-23127\n",
        "C:\\Windows\\System32>fs -ls /BIGDATA-23127"
      ],
      "metadata": {
        "id": "OxwhKZUPaAYg"
      },
      "execution_count": null,
      "outputs": []
    },
    {
      "cell_type": "code",
      "source": [
        "C:\\Windows\\System32>Hadoop fs -touchz /PRACTICAL-23127.txt"
      ],
      "metadata": {
        "id": "GstSWW2zaBys"
      },
      "execution_count": null,
      "outputs": []
    },
    {
      "cell_type": "code",
      "source": [
        "C:\\Windows\\System32>Hadoop fs -ls /BIGDATA-23127\n",
        "C:\\Windows\\System32>Hadoop fs -touchz /practical-23127.txt\n",
        "C:\\Windows\\System32>Hadoop fs -ls /BIGDATA-23127\n",
        "C:\\Windows\\System32>Hadoop fs -appendToFile /c:/tips2.csv /practical-23127.txt"
      ],
      "metadata": {
        "id": "RbKdAaEXaFoE"
      },
      "execution_count": null,
      "outputs": []
    },
    {
      "cell_type": "code",
      "source": [
        "C:\\Windows\\System32>Hadoop fs -expunge\n",
        "C:\\Windows\\System32>hadoop fs -du -h /"
      ],
      "metadata": {
        "id": "SM0gAeDwadOf"
      },
      "execution_count": null,
      "outputs": []
    }
  ]
}