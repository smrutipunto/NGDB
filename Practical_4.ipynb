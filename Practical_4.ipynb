{
  "nbformat": 4,
  "nbformat_minor": 0,
  "metadata": {
    "colab": {
      "provenance": [],
      "authorship_tag": "ABX9TyM9oqPcu2QEz31UpeEdKRap",
      "include_colab_link": true
    },
    "kernelspec": {
      "name": "python3",
      "display_name": "Python 3"
    },
    "language_info": {
      "name": "python"
    }
  },
  "cells": [
    {
      "cell_type": "markdown",
      "metadata": {
        "id": "view-in-github",
        "colab_type": "text"
      },
      "source": [
        "<a href=\"https://colab.research.google.com/github/smrutipunto/NGDB/blob/main/Practical_4.ipynb\" target=\"_parent\"><img src=\"https://colab.research.google.com/assets/colab-badge.svg\" alt=\"Open In Colab\"/></a>"
      ]
    },
    {
      "cell_type": "code",
      "execution_count": null,
      "metadata": {
        "id": "mgjLjQghYxZF"
      },
      "outputs": [],
      "source": [
        "#MongoDB mapreduce and filter queries\n",
        "db.restaurants.find({\"borough\": \"Manhattan\", \"cuisine\": \"Chinese\"})\n",
        "\n",
        "db.restaurants.find({\n",
        "    \"cuisine\" : {$ne:\"American \"},\n",
        "    \"grades.grade\":\"A\",\n",
        "    \"borough\": {$ne: \"Brooklyn\" }\n",
        "    }\n",
        "    ).sort({\"cuisine\":-1});\n",
        "db.restaurants.find({\n",
        "  \"name\": { $regex: \"food$\", $options: \"i\" }\n",
        "}, {\n",
        "  \"name\": 1,\n",
        "  \"_id\": 0\n",
        "});\n",
        "db.restaurants.aggregate([\n",
        "  {\n",
        "    $unwind: \"$grades\"\n",
        "  },\n",
        "  {\n",
        "    $group: {\n",
        "      _id: \"$cuisine\",\n",
        "avgScore: { $avg: \"$grades.score\" }\n",
        "    }\n",
        "  }\n",
        "])\n",
        "\n"
      ]
    },
    {
      "cell_type": "code",
      "source": [
        "db.restaurants.aggregate([\n",
        "{ $unwind: \"$grades\" },\n",
        "{ $group: {\n",
        "      _id: { borough: \"$borough\" },\n",
        "maximumScore: { $max: \"$grades.score\" }\n",
        "    }\n",
        "  }\n",
        "])\n"
      ],
      "metadata": {
        "id": "C0VcKvzLZKSu"
      },
      "execution_count": null,
      "outputs": []
    },
    {
      "cell_type": "code",
      "source": [],
      "metadata": {
        "id": "faUezL0dZR5H"
      },
      "execution_count": null,
      "outputs": []
    }
  ]
}