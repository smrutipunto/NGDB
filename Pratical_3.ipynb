{
  "nbformat": 4,
  "nbformat_minor": 0,
  "metadata": {
    "colab": {
      "provenance": [],
      "authorship_tag": "ABX9TyMyWQfzYkW7Ww+lS8QjxQfX",
      "include_colab_link": true
    },
    "kernelspec": {
      "name": "python3",
      "display_name": "Python 3"
    },
    "language_info": {
      "name": "python"
    }
  },
  "cells": [
    {
      "cell_type": "markdown",
      "metadata": {
        "id": "view-in-github",
        "colab_type": "text"
      },
      "source": [
        "<a href=\"https://colab.research.google.com/github/smrutipunto/NGDB/blob/main/Pratical_3.ipynb\" target=\"_parent\"><img src=\"https://colab.research.google.com/assets/colab-badge.svg\" alt=\"Open In Colab\"/></a>"
      ]
    },
    {
      "cell_type": "code",
      "execution_count": null,
      "metadata": {
        "id": "1iG2f_QjXjNL"
      },
      "outputs": [],
      "source": [
        "#MongoDB basic queries\n",
        "\n",
        "use library;\n",
        "db.createCollection(\"book\")\n",
        "show dbs;\n",
        "db.book.insert({\"title\":\"Programming with Java\",\n",
        "\"status_info\":[{\"accession_no\":\"BS001\",\"status\":\"issued\"}],\n",
        "\"author\":\"E Balaguruswamy\", \"cost\":350, \"publisher_name\":\"TMH\"});\n",
        "db.book.insert({\"title\":\"ASP.NET 3.5 VB 2008\",\n",
        "\"status_info\":[{\"accession_no\":\"BS002\",\"status\":\"AVAIL\"}],\n",
        "\"author\":\"ANNE BOEHM\", \"cost\":650, \"publisher_name\":\"MURACH\"});\n",
        "db.book.insert({\"title\":\"Programming in VB\",\n",
        "\"status_info\":[{\"accession_no\":\"BS003\",\"status\":\"issued\"}],\n",
        "\"author\":\"Julia Case Bradley\", \"cost\":600, \"publisher_name\":\"TMH\"});\n",
        "db.book.insert({\"title\":\"Database System Concepts\",\n",
        "\"status_info\":[{\"accession_no\":\"BS004\",\"status\":\"issued\"}],\n",
        "\"author\":\"Korth Sudarshan\", \"cost\":500, \"publisher_name\":\"TMH\"});\n",
        "db.book.insert({\"title\":\"Distributed Systems\",\n",
        "\"status_info\":[{\"accession_no\":\"BS005\",\"status\":\"AVAIL\"}],\n",
        "\"author\":\"Andrew S Tanenbaum\", \"cost\":350, \"publisher_name\":\"PEARSON\"});\n",
        "db.book.insert({\"title\":\"Let Us 'C'\",\n",
        "\"status_info\":[{\"accession_no\":\"BS006\",\"status\":\"AVAIL\"}],\n",
        "\"author\":\"Kanetkar Yashavant P.\", \"cost\":600,\n",
        "\"publisher_name\":\"B.P.B.\"});\n",
        "db.book.insert({\"title\":\"Let Us 'C'\",\n",
        "\"status_info\":[{\"accession_no\":\"BS007\",\"status\":\"AVAIL\"}],\n",
        "\"author\":\"Kanetkar Yashavant P.\", \"cost\":600,\n",
        "\"publisher_name\":\"B.P.B.\"});\n",
        "db.book.insert({\"title\":\"Let Us 'C'\",\n",
        "\"status_info\":[{\"accession_no\":\"BS008\",\"status\":\"AVAIL\"}],\n",
        "\"author\":\"Kanetkar Yashavant P.\", \"cost\":600,\n",
        "\"publisher_name\":\"B.P.B.\"});\n",
        "db.book.insert({\"title\":\"Let Us 'C'\",\n",
        "\"status_info\":[{\"accession_no\":\"BS009\",\"status\":\"AVAIL\"}],\n",
        "\"author\":\"Kanetkar Yashavant P.\", \"cost\":600,\n",
        "\"publisher_name\":\"B.P.B.\"});\n",
        "db.book.insert({\"title\":\"Let Us 'C'\",\n",
        "\"status_info\":[{\"accession_no\":\"BS010\",\"status\":\"AVAIL\"}],\n",
        "\"author\":\"Kanetkar Yashavant P.\", \"cost\":600,\n",
        "\"publisher_name\":\"B.P.B.\"});\n",
        "db.book.insert({\"title\":\"Let Us 'C'\",\n",
        "\"status_info\":[{\"accession_no\":\"BS011\",\"status\":\"AVAIL\"}],\n",
        "\"author\":\"Kanetkar Yashavant P.\", \"cost\":600,\n",
        "\"publisher_name\":\"B.P.B.\"});\n",
        "db.book.insert({\"title\":\"Let Us 'C'\",\n",
        "\"status_info\":[{\"accession_no\":\"BS012\",\"status\":\"AVAIL\"}],\n",
        "\"author\":\"Kanetkar Yashavant P.\", \"cost\":600,\n",
        "\"publisher_name\":\"B.P.B.\"});\n",
        "db.book.insert({\"title\":\"Let Us 'C'\",\n",
        "\"status_info\":[{\"accession_no\":\"BS013\",\"status\":\"AVAIL\"}],\n",
        "\"author\":\"Kanetkar Yashavant P.\", \"cost\":600,\n",
        "\"publisher_name\":\"B.P.B.\"});\n",
        "db.book.insert({\"title\":\"Let Us 'C'\",\n",
        "\"status_info\":[{\"accession_no\":\"BS014\",\"status\":\"AVAIL\"}],\n",
        "\"author\":\"Kanetkar Yashavant P.\", \"cost\":600,\n",
        "\"publisher_name\":\"B.P.B.\"});\n",
        "db.book.insert({\"title\":\"Modern Digital Electronics\",\n",
        "\"status_info\":[{\"accession_no\":\"BS015\",\"status\":\"issued\"}],\n",
        "\"author\":\"Jain R. P.\", \"cost\":650, \"publisher_name\":\"TMH\"});\n",
        "db.book.insert({\"title\":\"Modern Digital Electronics\",\n",
        "\"status_info\":[{\"accession_no\":\"BS016\",\"status\":\"AVAIL\"}],\n",
        "\"author\":\"Jain R. P.\", \"cost\":650, \"publisher_name\":\"TMH\"});\n",
        "db.book.insert({\"title\":\"Computer Organization & Architecture\",\n",
        "\"status_info\":[{\"accession_no\":\"BS017\",\"status\":\"issued\"}],\n",
        "\"author\":\"Stallings William\", \"cost\":600, \"publisher_name\":\"Dorling\n",
        "Kindersley\"});\n",
        "db.book.insert({\"title\":\"Computer Organization & Architecture\",\n",
        "\"status_info\":[{\"accession_no\":\"BS018\",\"status\":\"issued\"}],\n",
        "\"author\":\"Stallings William\", \"cost\":600, \"publisher_name\":\"Dorling\n",
        "Kindersley\"});\n",
        "db.book.insert({\"title\":\"Computer Organization & Architecture\",\n",
        "\"status_info\":[{\"accession_no\":\"BS019\",\"status\":\"AVAIL\"}],\n",
        "\"author\":\"Stallings William\", \"cost\":600, \"publisher_name\":\"Dorling\n",
        "Kindersley\"});\n",
        "db.book.insert({\"title\":\"Computer Organization & Architecture\",\n",
        "\"status_info\":[{\"accession_no\":\"BS020\",\"status\":\"AVAIL\"}],\n",
        "\"author\":\"Stallings William\", \"cost\":600, \"publisher_name\":\"Dorling\n",
        "Kindersley\"});\n",
        "db.book.find({\"author\":\"E Balaguruswamy\"});\n",
        "                db.book.updateOne(\n",
        "{ title:\"Modern Digital Electronics\"},\n",
        "{ $set: {title: \"Ramakrishna\" }});\n",
        "\n",
        "                db.book.find({});\n",
        "                db.book.find({ \"cost\":{ $gt: 500} });"
      ]
    }
  ]
}