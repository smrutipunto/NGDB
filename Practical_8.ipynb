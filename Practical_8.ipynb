{
  "nbformat": 4,
  "nbformat_minor": 0,
  "metadata": {
    "colab": {
      "provenance": [],
      "authorship_tag": "ABX9TyM0eqvP5E3xNI+clYxJxB70",
      "include_colab_link": true
    },
    "kernelspec": {
      "name": "python3",
      "display_name": "Python 3"
    },
    "language_info": {
      "name": "python"
    }
  },
  "cells": [
    {
      "cell_type": "markdown",
      "metadata": {
        "id": "view-in-github",
        "colab_type": "text"
      },
      "source": [
        "<a href=\"https://colab.research.google.com/github/smrutipunto/NGDB/blob/main/Practical_8.ipynb\" target=\"_parent\"><img src=\"https://colab.research.google.com/assets/colab-badge.svg\" alt=\"Open In Colab\"/></a>"
      ]
    },
    {
      "cell_type": "code",
      "execution_count": null,
      "metadata": {
        "id": "OKWQfWp1LyTw"
      },
      "outputs": [],
      "source": [
        "#Hive table\n",
        "start-dfs.cmd\n",
        "start-yarn.cmd\n",
        "startnetworkserver -h.0.0.0.0\n",
        "hive\n",
        "\n",
        "#Create a managed table in Hive (lecture)\n",
        "hive> create table Lecture(\n",
        "Room int,\n",
        "Da_te varchar(20),\n",
        "Time varchar(20),\n",
        "Course varchar(20),\n",
        "T_ID varchar(20),\n",
        "row format delimited\n",
        "fields terminated by’,’;\n"
      ]
    },
    {
      "cell_type": "code",
      "source": [
        "hive> LOAD DATA LOCAL INPATH ‘C:\\\\Lecture.txt’ INTO TABLE Lecture;\n",
        "hive> select * from Lecture;\n",
        "hive> describe Lecture;\n",
        "hive> create external table teacher(T_ID_PK varchar(20),\n",
        "T_Name varchar(20),\n",
        "T_Dept varchar(20),\n",
        "T_Exp int,\n",
        "T_Highest_Degree varchar(20))\n",
        "row format delimited\n",
        "fields terminated by ‘,’;\n"
      ],
      "metadata": {
        "id": "vWToxbO0MZSl"
      },
      "execution_count": null,
      "outputs": []
    },
    {
      "cell_type": "code",
      "source": [
        "hive> load data inpath\n",
        "‘hdfs://localhost:9000/teacher.txt’\n",
        "Into table teacher;\n",
        "hive> drop table teacher;"
      ],
      "metadata": {
        "id": "a373U5WkMkTj"
      },
      "execution_count": null,
      "outputs": []
    }
  ]
}