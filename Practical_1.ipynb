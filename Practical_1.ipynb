{
  "nbformat": 4,
  "nbformat_minor": 0,
  "metadata": {
    "colab": {
      "provenance": [],
      "authorship_tag": "ABX9TyPfRwRsmarghqlJeZ4xzb2a",
      "include_colab_link": true
    },
    "kernelspec": {
      "name": "python3",
      "display_name": "Python 3"
    },
    "language_info": {
      "name": "python"
    }
  },
  "cells": [
    {
      "cell_type": "markdown",
      "metadata": {
        "id": "view-in-github",
        "colab_type": "text"
      },
      "source": [
        "<a href=\"https://colab.research.google.com/github/smrutipunto/NGDB/blob/main/Practical_1.ipynb\" target=\"_parent\"><img src=\"https://colab.research.google.com/assets/colab-badge.svg\" alt=\"Open In Colab\"/></a>"
      ]
    },
    {
      "cell_type": "code",
      "execution_count": null,
      "metadata": {
        "id": "DaKTKKIoVBAO"
      },
      "outputs": [],
      "source": [
        "#DDL Statements\n",
        "-- Create table CUSTOMERS\n",
        "CREATE TABLE CUSTOMERS (\n",
        "    CustId VARCHAR(50) PRIMARY KEY,\n",
        "    Name VARCHAR(50),\n",
        "    Contact_no VARCHAR(10)\n",
        ");\n",
        "\n",
        "-- Create table MOVIE\n",
        "CREATE TABLE MOVIE (\n",
        "    MovieID VARCHAR(50) PRIMARY KEY,\n",
        "    Name VARCHAR(50),\n",
        "    ActorName VARCHAR(50),\n",
        "    ActressName VARCHAR(50),\n",
        "    DirectorName VARCHAR(50),\n",
        "    ReleaseDate DATE,\n",
        "    CountryName VARCHAR(50),\n",
        "    Price DECIMAL(9, 2)\n",
        ");\n",
        "\n",
        "-- Create table SCREEN\n",
        "CREATE TABLE SCREEN (\n",
        "    ScreenID VARCHAR(50) PRIMARY KEY,\n",
        "    Name VARCHAR(50),\n",
        "    MovieID VARCHAR(50),\n",
        "    Capacity VARCHAR(50),\n",
        "    FOREIGN KEY (MovieID) REFERENCES MOVIE(MovieID)\n",
        ");\n",
        "\n",
        "-- Create table TICKETS\n",
        "CREATE TABLE TICKETS (\n",
        "    TicketID VARCHAR(50) PRIMARY KEY,\n",
        "    MovieID VARCHAR(50),\n",
        "    ScreenID VARCHAR(50),\n",
        "    Date DATE,\n",
        "    Price DECIMAL(9, 2),\n",
        "    FOREIGN KEY (MovieID) REFERENCES MOVIE(MovieID),\n",
        "    FOREIGN KEY (ScreenID) REFERENCES SCREEN(ScreenID)\n",
        ");\n",
        "\n",
        "-- Insert records into tables\n",
        "\n",
        "-- Insert records into CUSTOMERS table\n",
        "INSERT INTO CUSTOMERS (CustId, Name, Contact_no) VALUES\n",
        "('C001', 'John', '9834567890'),\n",
        "('C002', 'Jane', '9845678901'),\n",
        "('C003', 'David', '9856789012'),\n",
        "('C004', 'Emily', '9867890123'),\n",
        "('C005', 'Michael', '9878901234');\n",
        "\n",
        "-- Insert records into MOVIE table\n",
        "INSERT INTO MOVIE (MovieID, Name, ActorName, ActressName, DirectorName, ReleaseDate, CountryName, Price)\n",
        "VALUES ('M001', 'The Great Adventure', 'Brad Pitt', 'Angelina Jolie', 'Steven Spielberg', '2025-02-15', 'USA', 15.99),\n",
        "       ('M002', 'Sci-Fi Future', 'Will Smith', 'Halle Berry', 'James Cameron', '2025-04-20', 'UK', 18.50),\n",
        "       ('M003', 'Action Time', 'Chris Hemsworth', 'Scarlett Johansson', 'Joss Whedon', '2025-06-10', 'Australia', 20.00),\n",
        "       ('M004', 'Comedy Nights', 'Ben Stiller', 'Jennifer Aniston', 'Todd Phillips', '2025-07-05', 'Canada', 12.99),\n",
        "       ('M005', 'Drama Life', 'Leonardo DiCaprio', 'Emma Stone', 'Martin Scorsese', '2025-08-22', 'Italy', 14.50);\n",
        "\n",
        "-- Insert records into SCREEN table\n",
        "INSERT INTO SCREEN (ScreenID, Name, MovieID, Capacity)\n",
        "VALUES ('S001', 'Screen 1', 'M001', '200'),\n",
        "       ('S002', 'Screen 2', 'M002', '150'),\n",
        "       ('S003', 'Screen 3', 'M003', '300'),\n",
        "       ('S004', 'Screen 4', 'M004', '120'),\n",
        "       ('S005', 'Screen 5', 'M005', '250');\n",
        "\n",
        "-- Insert records into TICKETS table\n",
        "INSERT INTO TICKETS (TicketID, MovieID, ScreenID, Date, Price)\n",
        "VALUES\n",
        "('T001', 'M001', 'S001', '2025-01-06', 15.50),\n",
        "('T002', 'M002', 'S002', '2025-01-06', 18.50),\n",
        "('T003', 'M003', 'S003', '2025-01-06', 20.00),\n",
        "('T004', 'M004', 'S004', '2025-01-06', 12.50),\n",
        "('T005', 'M005', 'S005', '2025-01-06', 14.50);\n",
        "\n",
        "-- Select data from the tables\n",
        "\n",
        "SELECT * FROM CUSTOMERS;\n",
        "SELECT * FROM MOVIE;\n",
        "SELECT * FROM TICKETS;\n",
        "SELECT * FROM SCREEN;\n",
        "\n",
        "delete from tickets;\n",
        "\n",
        "SELECT * FROM TICKETS;\n"
      ]
    }
  ]
}