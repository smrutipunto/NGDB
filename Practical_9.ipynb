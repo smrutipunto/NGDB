{
  "nbformat": 4,
  "nbformat_minor": 0,
  "metadata": {
    "colab": {
      "provenance": [],
      "authorship_tag": "ABX9TyMOnNeSz7XLJxHmSC88+2x2",
      "include_colab_link": true
    },
    "kernelspec": {
      "name": "python3",
      "display_name": "Python 3"
    },
    "language_info": {
      "name": "python"
    }
  },
  "cells": [
    {
      "cell_type": "markdown",
      "metadata": {
        "id": "view-in-github",
        "colab_type": "text"
      },
      "source": [
        "<a href=\"https://colab.research.google.com/github/smrutipunto/NGDB/blob/main/Practical_9.ipynb\" target=\"_parent\"><img src=\"https://colab.research.google.com/assets/colab-badge.svg\" alt=\"Open In Colab\"/></a>"
      ]
    },
    {
      "cell_type": "code",
      "execution_count": null,
      "metadata": {
        "id": "D-T4_h0wMujw"
      },
      "outputs": [],
      "source": [
        "#HBASE\n",
        "create_namespace 'order'\n",
        "create 'order:customer',\n",
        "hbase(main):014:0* {NAME => 'Customers', VERSIONS => 1},\n",
        "hbase(main):015:0* {NAME => 'Product', VERSIONS => 1}\n"
      ]
    },
    {
      "cell_type": "code",
      "source": [
        "put 'order:customer', 'C01', 'Customers:Customer_name', 'Sam Singh'\n",
        "put 'order:customer', 'C01', 'Customers:City', 'Bangalore'\n",
        "put 'order:customer', 'C01', 'Product:Product_name', 'Mike'\n",
        "put 'order:customer', 'C01', 'Product:Price', '500'\n",
        "\n",
        "put 'order:customer', 'C02', 'Customers:Customer_name', 'Arijit Chauhan'\n",
        "put 'order:customer', 'C02', 'Customers:City', 'Goa'\n",
        "put 'order:customer', 'C02', 'Product:Product_name', 'Speakers'\n",
        "put 'order:customer', 'C02', 'Product:Price', '1500'\n",
        "\n",
        "put 'order:customer', 'C03', 'Customers:Customer_name', 'Rajesh Sinha'\n",
        "put 'order:customer', 'C03', 'Customers:City', 'Mumbai'\n",
        "put 'order:customer', 'C03', 'Product:Product_name', 'Pen Drive'\n",
        "put 'order:customer', 'C03', 'Product:Price', '1000'\n",
        "\n",
        "put 'order:customer', 'C04', 'Customers:Customer_name', 'Rupesh Mahanti'\n",
        "put 'order:customer', 'C04', 'Customers:City', 'Goa'\n",
        "put 'order:customer', 'C04', 'Product:Product_name', 'Mouse'\n",
        "put 'order:customer', 'C04', 'Product:Price', '3500'\n",
        "scan 'order:customer'\n",
        "scan 'order:customer', {COLUMNS => ['Customers:Customer_name', 'Customers:City']}"
      ],
      "metadata": {
        "id": "m3lzBGhVM7oS"
      },
      "execution_count": null,
      "outputs": []
    },
    {
      "cell_type": "code",
      "source": [
        "scan 'order:customer', {LIMIT => 2}\n",
        "\n",
        "import org.apache.hadoop.hbase.filter.SingleColumnValueFilter\n",
        "scan 'order:customer',{FILTER=>\"SingleColumnValueFilter('Product','Price',>,'binary:1000')\"}\n",
        "scan ‘order:customer’, {STARROW => ‘C02’, STOPROW => ‘C04’}"
      ],
      "metadata": {
        "id": "S3FTewsWNBXa"
      },
      "execution_count": null,
      "outputs": []
    },
    {
      "cell_type": "code",
      "source": [
        "count ‘order:customer’"
      ],
      "metadata": {
        "id": "10uW8Zp0NH5F"
      },
      "execution_count": null,
      "outputs": []
    }
  ]
}