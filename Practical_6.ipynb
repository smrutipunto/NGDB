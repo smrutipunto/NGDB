{
  "nbformat": 4,
  "nbformat_minor": 0,
  "metadata": {
    "colab": {
      "provenance": [],
      "authorship_tag": "ABX9TyOUxQp63pNZBCKBrLdyJa+Z",
      "include_colab_link": true
    },
    "kernelspec": {
      "name": "python3",
      "display_name": "Python 3"
    },
    "language_info": {
      "name": "python"
    }
  },
  "cells": [
    {
      "cell_type": "markdown",
      "metadata": {
        "id": "view-in-github",
        "colab_type": "text"
      },
      "source": [
        "<a href=\"https://colab.research.google.com/github/smrutipunto/NGDB/blob/main/Practical_6.ipynb\" target=\"_parent\"><img src=\"https://colab.research.google.com/assets/colab-badge.svg\" alt=\"Open In Colab\"/></a>"
      ]
    },
    {
      "cell_type": "code",
      "execution_count": null,
      "metadata": {
        "id": "gS4YXups46Au"
      },
      "outputs": [],
      "source": [
        "#Pig wordcount with Mapreduce:\n",
        "C:\\Windows\\System32>hadoop fs -put /C:/Never_stop.txt/"
      ]
    },
    {
      "cell_type": "code",
      "source": [
        "grunt> line_list = LOAD ‘/Never_stop.txt’ USING TextLoader() AS (line: chararray);\n",
        "grunt> word_list= foreach line_list generate FLATTEN(TOKENIZE(line)) as word;\n",
        "grunt> word_gr= group word_list by word;\n",
        "grunt> word_count= foreach word_gr generate group,COUNT(word_list);\n",
        "grunt> dump word_count;\n"
      ],
      "metadata": {
        "id": "h5qMnBjK6CZN"
      },
      "execution_count": null,
      "outputs": []
    },
    {
      "cell_type": "code",
      "source": [],
      "metadata": {
        "id": "Py5zuW6v7xWV"
      },
      "execution_count": null,
      "outputs": []
    }
  ]
}