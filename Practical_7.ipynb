{
  "nbformat": 4,
  "nbformat_minor": 0,
  "metadata": {
    "colab": {
      "provenance": [],
      "authorship_tag": "ABX9TyPAVYr7EB9vnMDRHqjzXH5T",
      "include_colab_link": true
    },
    "kernelspec": {
      "name": "python3",
      "display_name": "Python 3"
    },
    "language_info": {
      "name": "python"
    }
  },
  "cells": [
    {
      "cell_type": "markdown",
      "metadata": {
        "id": "view-in-github",
        "colab_type": "text"
      },
      "source": [
        "<a href=\"https://colab.research.google.com/github/smrutipunto/NGDB/blob/main/Practical_7.ipynb\" target=\"_parent\"><img src=\"https://colab.research.google.com/assets/colab-badge.svg\" alt=\"Open In Colab\"/></a>"
      ]
    },
    {
      "cell_type": "code",
      "execution_count": null,
      "metadata": {
        "id": "t-xbvlJI8NcW"
      },
      "outputs": [],
      "source": [
        "# Word wrangling with PIG\n",
        "C:\\Windows\\System32>start-dfs.cmd\n",
        "C:\\Windows\\System32>start-yarn.cmd\n",
        "#Import the file in Pig using PigStorage.\n",
        "Grunt> BankData = LOAD ‘c:/bank_csv.csv’ USING PigStorage(‘,’)\n",
        "\n",
        "#Print the schema.\n",
        "grunt>DESCRIBE BankData\n",
        "\n",
        "#Print all the rows for any 4 columns of the Bank.\n",
        "grunt> columns = foreach BankData generate age, job, marital, education;\n",
        "grunt> dump columns\n",
        "grunt> top10 = limit BankData 10;\n",
        "grunt> dump top10;\n",
        "\n",
        "grunt> married_customers = filter BankData by marital == ‘married’;\n",
        "grunt> data = foreach married_customers generate age, job, balance, loan;\n",
        "grunt> dump data;\n",
        "grunt> AvgBalanceByEducation = GROUP BankData BY education;\n",
        "grunt> AvgBalance = FOREACH AvgBalanceByEducation GENERATE group, AVG(BankData.balance);\n",
        "grunt> DUMP AvgBalance;\n"
      ]
    },
    {
      "cell_type": "code",
      "source": [
        "grunt> LoanTaken = FILTER BankData BY loan == ‘yes’;\n",
        "grunt> GroupByMaritalStatus = GROUP LoanTaken BY marital;\n",
        "grunt> LoanCountByMaritalStatus = FOREACH GroupByMaritalStatus GENERATE group, COUNT(LoadnTaken);\n",
        "grunt> DUMP LoanCountByMaritalStatus;\n",
        "grunt> Defaulters = FILTER BankData BY default == ‘yes’;\n",
        "grunt> NonDefaulters = FILTER BankData BY default == ‘no’\n",
        "grunt> GroupedDefaulters = GROUP Defaulters ALL;\n",
        "grunt> GroupedNonDefaulters = GROUP NonDefaulters ALL;\n",
        "grunt> DefaulterCount = FOREACH GroupedDefaulters GENERATE COUNT(Defaulters);\n",
        "grunt> NonDefaulterCount = FOREACH GroupedNonDefaulters GENERATE COUNT (NonDefaulters);\n",
        "grunt> DUMP DefaulterCount;"
      ],
      "metadata": {
        "id": "2sNcBqZfKx43"
      },
      "execution_count": null,
      "outputs": []
    },
    {
      "cell_type": "code",
      "source": [
        "grunt> LongDurationLoans = FILTER BankData BY duration > 1000;\n",
        "grunt> DUMP LongDUrationLoans;\n"
      ],
      "metadata": {
        "id": "ceG7uirjK45O"
      },
      "execution_count": null,
      "outputs": []
    }
  ]
}