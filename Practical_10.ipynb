{
  "nbformat": 4,
  "nbformat_minor": 0,
  "metadata": {
    "colab": {
      "provenance": [],
      "authorship_tag": "ABX9TyOyW1HtOlm+lmN+82KvTTL8",
      "include_colab_link": true
    },
    "kernelspec": {
      "name": "python3",
      "display_name": "Python 3"
    },
    "language_info": {
      "name": "python"
    }
  },
  "cells": [
    {
      "cell_type": "markdown",
      "metadata": {
        "id": "view-in-github",
        "colab_type": "text"
      },
      "source": [
        "<a href=\"https://colab.research.google.com/github/smrutipunto/NGDB/blob/main/Practical_10.ipynb\" target=\"_parent\"><img src=\"https://colab.research.google.com/assets/colab-badge.svg\" alt=\"Open In Colab\"/></a>"
      ]
    },
    {
      "cell_type": "code",
      "execution_count": null,
      "metadata": {
        "id": "W18RR7cKNX5D"
      },
      "outputs": [],
      "source": [
        "#Create the following tables in Neo4j and answer the following queries in CQL or cypher."
      ]
    },
    {
      "cell_type": "code",
      "source": [
        "CREATE(P1:Product_node{pid:\"p01\",pname:\"soap\",comp_name:\"lux\",cost:\"20\"})\n",
        "CREATE(P1:Product_node{pid:\"p02\",pname:\"shampoo\",comp_name:\"pantene\",cost:\"50\"})\n",
        "CREATE(P1:Product_node{pid:\"p03\",pname:\"toothpaste\",comp_name:\"colgate\",cost:\"100\"})\n",
        "\n",
        "CREATE(O1:Order_node{orderid:\"ord1\",pid:\"p01\",qty:\"5\"})\n",
        "CREATE(O1:Order_node{orderid:\"ord2\",pid:\"p01\",qty:\"2\"})\n",
        "CREATE(O1:Order_node{orderid:\"ord3\",pid:\"p02\",qty:\"2\"})\n",
        "CREATE(O1:Order_node{orderid:\"ord4\",pid:\"p01\",qty:\"1\"})\n",
        "CREATE(O1:Order_node{orderid:\"ord5\",pid:\"p02\",qty:\"2\"})\n",
        "CREATE(O1:Order_node{orderid:\"ord6\",pid:\"p04\",qty:\"5\"})\n",
        "CREATE(O1:Order_node{orderid:\"ord7\",pid:\"p05\",qty:\"2\"})\n"
      ],
      "metadata": {
        "id": "jy3JhhX3Ne7S"
      },
      "execution_count": null,
      "outputs": []
    },
    {
      "cell_type": "code",
      "source": [
        "MATCH(n:Product_node) RETURN n\n",
        "MATCH (p:Product_node) WHERE p.cost>=50 RETURN p\n",
        "MATCH (p:Product_node)-[:HAS_ORDER]->(o:Order_node) RETURN p.pname AS product_name, o.orderid AS order_id, o.qty AS quantity\n",
        "MATCH (p:Product_node)-[:HAS_ORDER]->(o:Order_node) RETURN p.pname AS product_name, SUM(toInteger(o.qty)) AS total_quantity ORDER BY total_quantity DESC;\n",
        "MATCH (p:Product_node)-[:HAS_ORDER]->(o:Order_node) WHERE p.comp_name = \"entertainment\" RETURN AVG(toInteger(o.qty)) AS average_quantity;"
      ],
      "metadata": {
        "id": "JQPSScSpNg68"
      },
      "execution_count": null,
      "outputs": []
    }
  ]
}