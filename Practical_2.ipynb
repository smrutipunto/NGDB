{
  "nbformat": 4,
  "nbformat_minor": 0,
  "metadata": {
    "colab": {
      "provenance": [],
      "authorship_tag": "ABX9TyPXMFTnBN/NWUjeYbxgdjmq",
      "include_colab_link": true
    },
    "kernelspec": {
      "name": "python3",
      "display_name": "Python 3"
    },
    "language_info": {
      "name": "python"
    }
  },
  "cells": [
    {
      "cell_type": "markdown",
      "metadata": {
        "id": "view-in-github",
        "colab_type": "text"
      },
      "source": [
        "<a href=\"https://colab.research.google.com/github/smrutipunto/NGDB/blob/main/Practical_2.ipynb\" target=\"_parent\"><img src=\"https://colab.research.google.com/assets/colab-badge.svg\" alt=\"Open In Colab\"/></a>"
      ]
    },
    {
      "cell_type": "code",
      "execution_count": null,
      "metadata": {
        "id": "QyhzNy_-V8oC"
      },
      "outputs": [],
      "source": [
        "#DML statements joins and queries\n",
        "create database assignment;\n",
        "create table Patient(\n",
        "Patient_id char(10) primary key,\n",
        "Patient_name varchar(30),\n",
        "Address varchar(20),\n",
        "Age int(3),\n",
        "Ailment varchar(20)\n",
        ");\n",
        "insert into Patient (Patient_id, Patient_name, Address, Age, Ailment)\n",
        "Values\n",
        "('P01', 'Santosh', 'Mumbai', 67, 'Heart attack'),\n",
        "('P02', 'Rohini', 'Bangalore', 65, 'Stroke'),\n",
        "('P03', 'Tilak', 'Mumbai', 54, 'Backache'),\n",
        "('P04', 'Rohini', 'Chennai', 34, 'Stomach ache'),\n",
        "('P05', 'Riddhi', 'Mumbai', 25, 'Fever');\n",
        "\n",
        "create table Doctor(\n",
        "Doc_id char(10) primary key,\n",
        "Doc_name varchar(30),\n",
        "Specialization varchar(30),\n",
        "Qualification varchar(30)\n",
        ");\n",
        "\n",
        "insert into Doctor (Doc_id, Doc_name, Specialization, Qualification)\n",
        "Values\n",
        "('D01', 'Ragini', 'Cardiac', 'MD'),\n",
        "('D02', 'Rishav', 'Gynaecology', 'MD'),\n",
        "('D03', 'Somnath', 'Cardiac', 'MD'),\n",
        "('D04', 'Raghav', 'General', 'MD'),\n",
        "('D05', 'Royston', 'General', 'MBBS');\n",
        "\n",
        "create table Admit(\n",
        "Bed_No char(10) primary key,\n",
        "Patient_id char(10),\n",
        "Doc_id char(10),\n",
        "Disease varchar(30),\n",
        "Dt_of_admit date,\n",
        "Dt_of_discharge date\n",
        ");\n",
        "\n",
        "insert into Admit (Bed_No, Patient_id, Doc_id, Disease, Dt_of_admit, Dt_of_discharge)\n",
        "Values\n",
        "('B01', 'P01', 'D01', 'Heart related', '2023-01-22', '2023-01-25'),\n",
        "('B02', 'P02', 'D01', 'Heart related', '2024-02-11', '2024-03-12'),\n",
        "('B03', 'P05', 'D05', 'Dengue', '2024-03-15', '2024-03-22');\n",
        "\n",
        "\n",
        "\n"
      ]
    },
    {
      "cell_type": "code",
      "source": [
        "SELECT Patient.patient_name\n",
        "FROM Patient\n",
        "JOIN Admit ON Patient.patient_id = Admit.Patient_id\n",
        "JOIN Doctor ON Admit.Doc_id = Doctor.Doc_id\n",
        "WHERE Doctor.Doc_name = 'Ragini';\n",
        "\n",
        "SELECT Patient.*\n",
        "FROM Patient\n",
        "JOIN Admit ON Patient.patient_id = Admit.Patient_id\n",
        "WHERE DATEDIFF(Admit.Dt_of_discharge, Admit.Dt_of_admit) > 10;\n",
        "\n",
        "SELECT Patient.patient_name\n",
        "FROM Patient\n",
        "LEFT JOIN Admit ON Patient.patient_id = Admit.Patient_id\n",
        "WHERE Admit.Patient_id IS NULL;\n",
        "\n",
        "SELECT *\n",
        "FROM Doctor\n",
        "WHERE specialization = 'General';\n",
        "\n",
        "\n",
        "/*5. Print the details of the doctor who is treating Riddhi*/\n",
        "SELECT Doctor.*\n",
        "FROM Doctor\n",
        "JOIN Admit ON Doctor.Doc_id = Admit.Doc_id\n",
        "JOIN Patient ON Admit.Patient_id = Patient.patient_id\n",
        "WHERE Patient.patient_name = 'Riddhi';\n"
      ],
      "metadata": {
        "id": "F8p8mfS-WVtq"
      },
      "execution_count": null,
      "outputs": []
    },
    {
      "cell_type": "code",
      "source": [
        "UPDATE Admit\n",
        "SET Dt_of_discharge = '2023-01-26'\n",
        "WHERE Patient_id = 'P01';\n",
        "\n",
        "ALTER TABLE Patient\n",
        "CHANGE COLUMN Ailment symptoms VARCHAR(30);\n",
        "\n",
        "DELETE Patient\n",
        "FROM Patient\n",
        "LEFT JOIN Admit ON Patient.patient_id = Admit.Patient_id\n",
        "WHERE Admit.Patient_id IS NULL;\n",
        "\n",
        "ALTER TABLE Doctor\n",
        "DROP COLUMN specialization;\n",
        "\n",
        "ALTER TABLE Patient\n",
        "MODIFY COLUMN Address VARCHAR(50);\n"
      ],
      "metadata": {
        "id": "RMYCouXPWvog"
      },
      "execution_count": null,
      "outputs": []
    }
  ]
}